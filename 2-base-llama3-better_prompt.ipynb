{
 "cells": [
  {
   "cell_type": "markdown",
   "id": "f725852e-71ef-4615-8cac-011a516fbe72",
   "metadata": {},
   "source": [
    "# Agent Executor From Scratch\n",
    "\n",
    "In this notebook we will go over how to build a basic agent executor from scratch."
   ]
  },
  {
   "cell_type": "markdown",
   "id": "c0860511-03c2-49bb-937b-035f84142b7e",
   "metadata": {},
   "source": [
    "## Setup¶\n",
    "First we need to install the packages required"
   ]
  },
  {
   "cell_type": "code",
   "execution_count": 1,
   "id": "fdd4ce41-4152-423b-b3f7-be3b4d568cf4",
   "metadata": {},
   "outputs": [],
   "source": [
    "# %%capture --no-stderr\n",
    "# %pip install --quiet -U langchain langchain_openai langchainhub tavily-python"
   ]
  },
  {
   "cell_type": "markdown",
   "id": "5f4179ce-48fa-4aaf-a5a1-027b5229be1a",
   "metadata": {},
   "source": [
    "Next, we need to set API keys for OpenAI (the LLM we will use) and Tavily (the search tool we will use)"
   ]
  },
  {
   "cell_type": "code",
   "execution_count": 2,
   "id": "6398c4c1-da78-4595-8a5a-051ed2d1de72",
   "metadata": {},
   "outputs": [],
   "source": [
    "import os\n",
    "\n",
    "LOCAL_LLM = \"llama3\"\n",
    "os.environ[\"TAVILY_API_KEY\"] = \"<>\""
   ]
  },
  {
   "cell_type": "markdown",
   "id": "37943b1c-2b0a-4c09-bfbd-5dc24b839e3c",
   "metadata": {},
   "source": [
    "Optionally, we can set API key for [LangSmith tracing](https://smith.langchain.com/), which will give us best-in-class observability."
   ]
  },
  {
   "cell_type": "code",
   "execution_count": 3,
   "id": "dcbf79ad-4de5-43b0-a3a1-25b33711e46c",
   "metadata": {},
   "outputs": [],
   "source": [
    "# os.environ[\"LANGCHAIN_TRACING_V2\"] = \"true\"\n",
    "# os.environ[\"LANGCHAIN_API_KEY\"] = \"<>\""
   ]
  },
  {
   "cell_type": "markdown",
   "id": "5dace4a9-7c9e-4da2-bf7b-e58d0d05581e",
   "metadata": {},
   "source": [
    "## Create the LangChain agent\n",
    "\n",
    "First, we will create the LangChain agent. For more information on LangChain agents, see [this documentation](https://python.langchain.com/docs/modules/agents/)"
   ]
  },
  {
   "cell_type": "code",
   "execution_count": 4,
   "id": "4499eb16-bca8-4a60-9a3a-2f34ae3f7078",
   "metadata": {},
   "outputs": [],
   "source": [
    "from langchain import hub\n",
    "from langchain_core.prompts.prompt import PromptTemplate\n",
    "from langchain.agents import create_react_agent\n",
    "from langchain_community.chat_models import ChatOllama\n",
    "from langchain_community.tools.tavily_search import TavilySearchResults\n",
    "\n",
    "tools = [TavilySearchResults(max_results=1)]\n",
    "\n",
    "# Get the prompt to use - you can modify this!\n",
    "# prompt = hub.pull(\"hwchase17/react\")\n",
    "\n",
    "prompt_template = \\\n",
    "\"\"\"\n",
    "Answer the following questions as best you can. You have access to the following tools:\n",
    "\n",
    "{tools}\n",
    "\n",
    "Use the following conditional format:\n",
    "\n",
    "1. If you found the answer, generate the output in the following format:\n",
    "    Thought: I now know the final answer\n",
    "    Final Answer: the final answer to the original input question\n",
    "\n",
    "2. But if you don't know the answer yet, generate the output in the following format:\n",
    "    Question: the input question you must answer\n",
    "    Thought: you should always think about what to do\n",
    "    Action: the action to take, MUST be one of [{tool_names}], other values are NOT allowed\n",
    "    Action Input: the input to the action\n",
    "    Observation: the result of the action\n",
    "\n",
    "Note that the second condition can repeat N times until you find the answer.\n",
    "The history of previous actions and their corresponding observations is available in 'intermediate_steps' attribute.\n",
    "It can help avoid completely repetitive actions.\n",
    "Feel free to do a repetitive Action with different Action Input if you need more information.\n",
    "\n",
    "Begin!\n",
    "\n",
    "Question: {input}\n",
    "\n",
    "Thought: {agent_scratchpad}\n",
    "\"\"\"\n",
    "\n",
    "prompt = PromptTemplate.from_template(prompt_template)\n",
    "\n",
    "# Choose the LLM that will drive the agent\n",
    "llm = ChatOllama(model=LOCAL_LLM, temperature=0)\n",
    "\n",
    "# Construct the OpenAI Functions agent\n",
    "agent_runnable = create_react_agent(llm, tools, prompt)"
   ]
  },
  {
   "cell_type": "code",
   "execution_count": 5,
   "id": "073398ce",
   "metadata": {},
   "outputs": [
    {
     "name": "stdout",
     "output_type": "stream",
     "text": [
      "\n",
      "Answer the following questions as best you can. You have access to the following tools:\n",
      "\n",
      "\u001b[33;1m\u001b[1;3m{tools}\u001b[0m\n",
      "\n",
      "Use the following conditional format:\n",
      "\n",
      "1. If you found the answer, generate the output in the following format:\n",
      "    Thought: I now know the final answer\n",
      "    Final Answer: the final answer to the original input question\n",
      "\n",
      "2. But if you don't know the answer yet, generate the output in the following format:\n",
      "    Question: the input question you must answer\n",
      "    Thought: you should always think about what to do\n",
      "    Action: the action to take, MUST be one of [\u001b[33;1m\u001b[1;3m{tool_names}\u001b[0m], other values are NOT allowed\n",
      "    Action Input: the input to the action\n",
      "    Observation: the result of the action\n",
      "\n",
      "Note that the second condition can repeat N times until you find the answer.\n",
      "The history of previous actions and their corresponding observations is available in 'intermediate_steps' attribute.\n",
      "It can help avoid completely repetitive actions.\n",
      "Feel free to do a repetitive Action with different Action Input if you need more information.\n",
      "\n",
      "Begin!\n",
      "\n",
      "Question: \u001b[33;1m\u001b[1;3m{input}\u001b[0m\n",
      "\n",
      "Thought: \u001b[33;1m\u001b[1;3m{agent_scratchpad}\u001b[0m\n",
      "\n"
     ]
    }
   ],
   "source": [
    "prompt.pretty_print()"
   ]
  },
  {
   "cell_type": "markdown",
   "id": "972e58b3-fe3c-449d-b3c4-8fa2217afd07",
   "metadata": {},
   "source": [
    "## Define the graph state\n",
    "\n",
    "We now define the graph state. The state for the traditional LangChain agent has a few attributes:\n",
    "\n",
    "1. `input`: This is the input string representing the main ask from the user, passed in as input.\n",
    "2. `chat_history`: This is any previous conversation messages, also passed in as input.\n",
    "3. `intermediate_steps`: This is list of actions and corresponding observations that the agent takes over time. This is updated each iteration of the agent.\n",
    "4. `agent_outcome`: This is the response from the agent, either an AgentAction or AgentFinish. The AgentExecutor should finish when this is an AgentFinish, otherwise it should call the requested tools.\n"
   ]
  },
  {
   "cell_type": "code",
   "execution_count": 6,
   "id": "c941fb10-dbe5-4d6a-ab7d-133d01c33cc4",
   "metadata": {},
   "outputs": [],
   "source": [
    "from typing import TypedDict, Annotated, List, Union\n",
    "from langchain_core.agents import AgentAction, AgentFinish\n",
    "from langchain_core.messages import BaseMessage\n",
    "import operator\n",
    "\n",
    "\n",
    "class AgentState(TypedDict):\n",
    "    # The input string\n",
    "    input: str\n",
    "    # The list of previous messages in the conversation\n",
    "    chat_history: list[BaseMessage]\n",
    "    # The outcome of a given call to the agent\n",
    "    # Needs `None` as a valid type, since this is what this will start as\n",
    "    agent_outcome: Union[AgentAction, AgentFinish, None]\n",
    "    # List of actions and corresponding observations\n",
    "    # Here we annotate this with `operator.add` to indicate that operations to\n",
    "    # this state should be ADDED to the existing values (not overwrite it)\n",
    "    intermediate_steps: Annotated[list[tuple[AgentAction, str]], operator.add]"
   ]
  },
  {
   "cell_type": "markdown",
   "id": "cd27b281-cc9a-49c9-be78-8b98a7d905c4",
   "metadata": {},
   "source": [
    "## Define the nodes\n",
    "\n",
    "We now need to define a few different nodes in our graph.\n",
    "In `langgraph`, a node can be either a function or a [runnable](https://python.langchain.com/docs/expression_language/).\n",
    "There are two main nodes we need for this:\n",
    "\n",
    "1. The agent: responsible for deciding what (if any) actions to take.\n",
    "2. A function to invoke tools: if the agent decides to take an action, this node will then execute that action.\n",
    "\n",
    "We will also need to define some edges.\n",
    "Some of these edges may be conditional.\n",
    "The reason they are conditional is that based on the output of a node, one of several paths may be taken.\n",
    "The path that is taken is not known until that node is run (the LLM decides).\n",
    "\n",
    "1. Conditional Edge: after the agent is called, we should either:\n",
    "   a. If the agent said to take an action, then the function to invoke tools should be called\n",
    "   b. If the agent said that it was finished, then it should finish\n",
    "2. Normal Edge: after the tools are invoked, it should always go back to the agent to decide what to do next\n",
    "\n",
    "Let's define the nodes, as well as a function to decide how what conditional edge to take."
   ]
  },
  {
   "cell_type": "code",
   "execution_count": 7,
   "id": "d61a970d-edf4-4eef-9678-28bab7c72331",
   "metadata": {},
   "outputs": [],
   "source": [
    "from langchain_core.agents import AgentFinish\n",
    "from langgraph.prebuilt.tool_executor import ToolExecutor\n",
    "\n",
    "# This a helper class we have that is useful for running tools\n",
    "# It takes in an agent action and calls that tool and returns the result\n",
    "tool_executor = ToolExecutor(tools)\n",
    "\n",
    "\n",
    "# Define the agent\n",
    "def run_agent(data):\n",
    "    agent_outcome = agent_runnable.invoke(data)\n",
    "    return {\"agent_outcome\": agent_outcome}\n",
    "\n",
    "\n",
    "# Define the function to execute tools\n",
    "def execute_tools(data):\n",
    "    # Get the most recent agent_outcome - this is the key added in the `agent` above\n",
    "    agent_action = data[\"agent_outcome\"]\n",
    "    output = tool_executor.invoke(agent_action)\n",
    "    return {\"intermediate_steps\": [(agent_action, str(output))]}\n",
    "\n",
    "\n",
    "# Define logic that will be used to determine which conditional edge to go down\n",
    "def should_continue(data):\n",
    "    # If the agent outcome is an AgentFinish, then we return `exit` string\n",
    "    # This will be used when setting up the graph to define the flow\n",
    "    if isinstance(data[\"agent_outcome\"], AgentFinish):\n",
    "        return \"end\"\n",
    "    # Otherwise, an AgentAction is returned\n",
    "    # Here we return `continue` string\n",
    "    # This will be used when setting up the graph to define the flow\n",
    "    else:\n",
    "        return \"continue\""
   ]
  },
  {
   "cell_type": "markdown",
   "id": "c0b211f4-0c5c-4792-b18d-cd70907c71e7",
   "metadata": {},
   "source": [
    "## Define the graph\n",
    "\n",
    "We can now put it all together and define the graph!"
   ]
  },
  {
   "cell_type": "code",
   "execution_count": 8,
   "id": "c4054dde-4618-49b7-998a-daa0c1d6d6c0",
   "metadata": {},
   "outputs": [],
   "source": [
    "from langgraph.graph import END, StateGraph\n",
    "\n",
    "# Define a new graph\n",
    "workflow = StateGraph(AgentState)\n",
    "\n",
    "# Define the two nodes we will cycle between\n",
    "workflow.add_node(\"agent\", run_agent)\n",
    "workflow.add_node(\"action\", execute_tools)\n",
    "\n",
    "# Set the entrypoint as `agent`\n",
    "# This means that this node is the first one called\n",
    "workflow.set_entry_point(\"agent\")\n",
    "\n",
    "# We now add a conditional edge\n",
    "workflow.add_conditional_edges(\n",
    "    # First, we define the start node. We use `agent`.\n",
    "    # This means these are the edges taken after the `agent` node is called.\n",
    "    \"agent\",\n",
    "    # Next, we pass in the function that will determine which node is called next.\n",
    "    should_continue,\n",
    "    # Finally we pass in a mapping.\n",
    "    # The keys are strings, and the values are other nodes.\n",
    "    # END is a special node marking that the graph should finish.\n",
    "    # What will happen is we will call `should_continue`, and then the output of that\n",
    "    # will be matched against the keys in this mapping.\n",
    "    # Based on which one it matches, that node will then be called.\n",
    "    {\n",
    "        # If `tools`, then we call the tool node.\n",
    "        \"continue\": \"action\",\n",
    "        # Otherwise we finish.\n",
    "        \"end\": END,\n",
    "    },\n",
    ")\n",
    "\n",
    "# We now add a normal edge from `tools` to `agent`.\n",
    "# This means that after `tools` is called, `agent` node is called next.\n",
    "workflow.add_edge(\"action\", \"agent\")\n",
    "\n",
    "# Finally, we compile it!\n",
    "# This compiles it into a LangChain Runnable,\n",
    "# meaning you can use it as you would any other runnable\n",
    "app = workflow.compile()"
   ]
  },
  {
   "cell_type": "code",
   "execution_count": 9,
   "id": "214ae46e-c297-465d-86db-2b0312ed3530",
   "metadata": {},
   "outputs": [
    {
     "name": "stdout",
     "output_type": "stream",
     "text": [
      "{'agent_outcome': AgentAction(tool='tavily_search_results_json', tool_input='what is the weather in San Francisco', log='Let\\'s start by searching for the answer.\\n\\nQuestion: what is the weather in sf\\nThought: I should always think about what to do\\nAction: tavily_search_results_json\\nAction Input: \"what is the weather in San Francisco')}\n",
      "----\n",
      "{'intermediate_steps': [(AgentAction(tool='tavily_search_results_json', tool_input='what is the weather in San Francisco', log='Let\\'s start by searching for the answer.\\n\\nQuestion: what is the weather in sf\\nThought: I should always think about what to do\\nAction: tavily_search_results_json\\nAction Input: \"what is the weather in San Francisco'), '[{\\'url\\': \\'https://www.weatherapi.com/\\', \\'content\\': \"{\\'location\\': {\\'name\\': \\'San Francisco\\', \\'region\\': \\'California\\', \\'country\\': \\'United States of America\\', \\'lat\\': 37.78, \\'lon\\': -122.42, \\'tz_id\\': \\'America/Los_Angeles\\', \\'localtime_epoch\\': 1715109143, \\'localtime\\': \\'2024-05-07 12:12\\'}, \\'current\\': {\\'last_updated_epoch\\': 1715108400, \\'last_updated\\': \\'2024-05-07 12:00\\', \\'temp_c\\': 15.0, \\'temp_f\\': 59.0, \\'is_day\\': 1, \\'condition\\': {\\'text\\': \\'Partly cloudy\\', \\'icon\\': \\'//cdn.weatherapi.com/weather/64x64/day/116.png\\', \\'code\\': 1003}, \\'wind_mph\\': 9.4, \\'wind_kph\\': 15.1, \\'wind_degree\\': 270, \\'wind_dir\\': \\'W\\', \\'pressure_mb\\': 1019.0, \\'pressure_in\\': 30.1, \\'precip_mm\\': 0.0, \\'precip_in\\': 0.0, \\'humidity\\': 60, \\'cloud\\': 25, \\'feelslike_c\\': 14.7, \\'feelslike_f\\': 58.4, \\'vis_km\\': 16.0, \\'vis_miles\\': 9.0, \\'uv\\': 4.0, \\'gust_mph\\': 13.9, \\'gust_kph\\': 22.3}}\"}]')]}\n",
      "----\n",
      "{'agent_outcome': AgentFinish(return_values={'output': 'The weather in San Francisco is partly cloudy with a temperature of 59°F (15°C) and a wind speed of 15.1 km/h (9.4 mph).'}, log='Thought: I now know the final answer\\nFinal Answer: The weather in San Francisco is partly cloudy with a temperature of 59°F (15°C) and a wind speed of 15.1 km/h (9.4 mph).')}\n",
      "----\n"
     ]
    }
   ],
   "source": [
    "inputs = {\"input\": \"what is the weather in sf\", \"chat_history\": []}\n",
    "for s in app.stream(inputs):\n",
    "    print(list(s.values())[0])\n",
    "    print(\"----\")"
   ]
  },
  {
   "cell_type": "code",
   "execution_count": 10,
   "id": "2b2bcfff",
   "metadata": {},
   "outputs": [
    {
     "name": "stdout",
     "output_type": "stream",
     "text": [
      "{'agent_outcome': AgentAction(tool='tavily_search_results_json', tool_input='بهترین شهرهای ایران برای مسافرت تابستانی چیست', log=\"A question about the best cities in Iran for summer travel!\\n\\nSince I have access to `tavily_search_results_json`, I'll use it to find the answer.\\n\\nHere's my first action:\\n\\nAction: tavily_search_results_json\\nAction Input: بهترین شهرهای ایران برای مسافرت تابستانی چیست\")}\n",
      "----\n",
      "{'intermediate_steps': [(AgentAction(tool='tavily_search_results_json', tool_input='بهترین شهرهای ایران برای مسافرت تابستانی چیست', log=\"A question about the best cities in Iran for summer travel!\\n\\nSince I have access to `tavily_search_results_json`, I'll use it to find the answer.\\n\\nHere's my first action:\\n\\nAction: tavily_search_results_json\\nAction Input: بهترین شهرهای ایران برای مسافرت تابستانی چیست\"), \"[{'url': 'https://faragasht.com/the-best-cities-in-iran-to-travel-in-summer/', 'content': 'قشم زیبا را فراموش نکن. یکی دیگر از بهترین شهرهای ایران برای سفر در تابستان، جزیره قشم است. دیدنی\\\\u200c های آن بسیار بی\\\\u200c نظیر و منحصر به فرد هستند. برای مثال دره ستارگان قشم، مجموعه از کوه\\\\u200cها، دره ...'}]\")]}\n",
      "----\n",
      "{'agent_outcome': AgentFinish(return_values={'output': 'قشم زیبا را فراموش نکن. یکی دیگر از بهترین شهرهای ایران برای سفر در تابستان، جزیره قشم است.\\n\\nNote: The observation suggests that Qeshm Island is one of the best cities in Iran for summer travel, with unique and breathtaking attractions such as the Star Valley of Qeshm.'}, log='Thought: I now know the final answer!\\n\\nFinal Answer: قشم زیبا را فراموش نکن. یکی دیگر از بهترین شهرهای ایران برای سفر در تابستان، جزیره قشم است.\\n\\nNote: The observation suggests that Qeshm Island is one of the best cities in Iran for summer travel, with unique and breathtaking attractions such as the Star Valley of Qeshm.')}\n",
      "----\n"
     ]
    }
   ],
   "source": [
    "inputs = {\"input\": \"بهترین شهرهای ایران برای مسافرت تابستانی چیست؟\", \"chat_history\": []}\n",
    "for s in app.stream(inputs):\n",
    "    print(list(s.values())[0])\n",
    "    print(\"----\")"
   ]
  },
  {
   "cell_type": "code",
   "execution_count": null,
   "id": "c8112f5b",
   "metadata": {},
   "outputs": [],
   "source": []
  }
 ],
 "metadata": {
  "kernelspec": {
   "display_name": "Python 3 (ipykernel)",
   "language": "python",
   "name": "python3"
  },
  "language_info": {
   "codemirror_mode": {
    "name": "ipython",
    "version": 3
   },
   "file_extension": ".py",
   "mimetype": "text/x-python",
   "name": "python",
   "nbconvert_exporter": "python",
   "pygments_lexer": "ipython3",
   "version": "3.9.6"
  }
 },
 "nbformat": 4,
 "nbformat_minor": 5
}
